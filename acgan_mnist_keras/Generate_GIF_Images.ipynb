{
 "cells": [
  {
   "cell_type": "code",
   "execution_count": 1,
   "metadata": {
    "collapsed": true
   },
   "outputs": [],
   "source": [
    "import imageio\n",
    "import glob\n",
    "import re"
   ]
  },
  {
   "cell_type": "code",
   "execution_count": 2,
   "metadata": {
    "collapsed": true
   },
   "outputs": [],
   "source": [
    "# sort images\n",
    "def emb_numbers(s):\n",
    "    import re  \n",
    "    re_digits = re.compile(r'(\\d+)') \n",
    "    pieces = re_digits.split(s)  \n",
    "    pieces[1::2] = map(int,pieces[1::2])      \n",
    "    return pieces \n",
    "\n",
    "def sort_img(lst):\n",
    "    return sorted(lst, key=emb_numbers)"
   ]
  },
  {
   "cell_type": "code",
   "execution_count": 3,
   "metadata": {
    "collapsed": true
   },
   "outputs": [],
   "source": [
    "# method 1\n",
    "with imageio.get_writer('acgan.gif', mode='I') as writer:\n",
    "    file_names = glob.glob(r\"images/mnist_*.png\")\n",
    "    file_names = sort_img(file_names)\n",
    "    for i,filename in enumerate(file_names):\n",
    "        image = imageio.imread(filename)\n",
    "        writer.append_data(image)\n",
    "    image = imageio.imread(filename)\n",
    "    writer.append_data(image)  "
   ]
  },
  {
   "cell_type": "code",
   "execution_count": 4,
   "metadata": {
    "collapsed": true
   },
   "outputs": [],
   "source": [
    "# method 2\n",
    "file_names = glob.glob(r\"images/mnist_*.png\")\n",
    "def create_gif(file_names, gif_name):  \n",
    "    file_names = sort_img(file_names)\n",
    "    frames = []\n",
    "    for image_name in file_names:  \n",
    "        frames.append(imageio.imread(image_name))  \n",
    "    #imageio.mimsave(gif_name, frames, 'GIF', duration = 0.8)  \n",
    "    imageio.mimsave(gif_name,frames)\n"
   ]
  },
  {
   "cell_type": "code",
   "execution_count": 5,
   "metadata": {
    "collapsed": false
   },
   "outputs": [],
   "source": [
    "create_gif(file_names,'mnist_acgan.gif')"
   ]
  },
  {
   "cell_type": "code",
   "execution_count": null,
   "metadata": {
    "collapsed": true
   },
   "outputs": [],
   "source": []
  }
 ],
 "metadata": {
  "kernelspec": {
   "display_name": "Python 3",
   "language": "python",
   "name": "python3"
  },
  "language_info": {
   "codemirror_mode": {
    "name": "ipython",
    "version": 3
   },
   "file_extension": ".py",
   "mimetype": "text/x-python",
   "name": "python",
   "nbconvert_exporter": "python",
   "pygments_lexer": "ipython3",
   "version": "3.5.3"
  },
  "latex_envs": {
   "LaTeX_envs_menu_present": true,
   "autocomplete": true,
   "bibliofile": "biblio.bib",
   "cite_by": "apalike",
   "current_citInitial": 1,
   "eqLabelWithNumbers": true,
   "eqNumInitial": 1,
   "hotkeys": {
    "equation": "Ctrl-E",
    "itemize": "Ctrl-I"
   },
   "labels_anchors": false,
   "latex_user_defs": false,
   "report_style_numbering": false,
   "user_envs_cfg": false
  }
 },
 "nbformat": 4,
 "nbformat_minor": 2
}
