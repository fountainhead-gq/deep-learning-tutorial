{
 "cells": [
  {
   "cell_type": "code",
   "execution_count": 1,
   "metadata": {
    "collapsed": false
   },
   "outputs": [
    {
     "name": "stderr",
     "output_type": "stream",
     "text": [
      "Using TensorFlow backend.\n"
     ]
    }
   ],
   "source": [
    "from keras.layers import Input, Dense, Reshape, Flatten, Embedding, Dropout\n",
    "from keras.layers import LeakyReLU,multiply\n",
    "from keras.layers import BatchNormalization\n",
    "from keras.layers import Conv2D, UpSampling2D\n",
    "from keras.layers import Reshape, Conv2DTranspose\n",
    "from keras.models import Sequential, Model\n",
    "from keras.optimizers import Adam\n",
    "from keras.layers.noise import GaussianNoise\n",
    "import keras.backend as K\n",
    "from keras.datasets import mnist\n",
    "\n",
    "from PIL import Image\n",
    "import matplotlib.pyplot as plt\n",
    "import numpy as np\n",
    "\n",
    "%matplotlib inline"
   ]
  },
  {
   "cell_type": "markdown",
   "metadata": {},
   "source": [
    "### generator"
   ]
  },
  {
   "cell_type": "code",
   "execution_count": 2,
   "metadata": {
    "collapsed": true
   },
   "outputs": [],
   "source": [
    "def build_generator(latent_size, num_class):\n",
    "    model = Sequential()\n",
    "    model.add(Dense(128 * 7 * 7, activation=\"relu\", input_dim=latent_size))\n",
    "    model.add(Reshape((7, 7, 128)))\n",
    "\n",
    "    model.add(Conv2DTranspose(256, kernel_size=3, strides=1, padding='same',\n",
    "                              activation='relu', kernel_initializer='glorot_normal'))\n",
    "    model.add(BatchNormalization())\n",
    "    \n",
    "    model.add(Conv2DTranspose(128, kernel_size=3, strides=2, padding='same', \n",
    "                              activation='relu', kernel_initializer='glorot_normal'))\n",
    "    model.add(BatchNormalization())\n",
    "    \n",
    "    model.add(Conv2DTranspose(64, kernel_size=3, strides=2, padding='same', \n",
    "                              activation='relu', kernel_initializer='glorot_normal'))\n",
    "    model.add(BatchNormalization())  \n",
    "    \n",
    "    model.add(Conv2DTranspose(1, kernel_size=3, strides=1, padding='same', \n",
    "                              activation='tanh', kernel_initializer='glorot_normal'))\n",
    "    \n",
    "    model.summary()\n",
    "\n",
    "    # this is the z space commonly refered to in GAN papers\n",
    "    latent_noise = Input(shape=(latent_size, ))\n",
    "\n",
    "    # label\n",
    "    image_label = Input(shape=(1,), dtype='int32')\n",
    "\n",
    "    # 10 classes in MNIST\n",
    "    embed = Embedding(num_class, latent_size, embeddings_initializer='glorot_normal')(image_label)\n",
    "    label_embed = Flatten()(embed)\n",
    "\n",
    "    model_input = multiply([latent_noise, label_embed])\n",
    "\n",
    "    fake_image = model(model_input)\n",
    "    gen_model =  Model(inputs=[latent_noise, image_label], outputs=fake_image)   \n",
    "    return gen_model"
   ]
  },
  {
   "cell_type": "markdown",
   "metadata": {},
   "source": [
    "### discriminator"
   ]
  },
  {
   "cell_type": "code",
   "execution_count": 3,
   "metadata": {
    "collapsed": true
   },
   "outputs": [],
   "source": [
    "def build_discriminator(img_shape, num_class):\n",
    "    model = Sequential()\n",
    "    model.add(Conv2D(32, kernel_size=3, strides=2, padding='same', input_shape=img_shape, kernel_initializer='glorot_normal'))\n",
    "    #model.add(GaussianNoise(0.05, input_shape=(28, 28, 1))) \n",
    "    #model.add(Conv2D(32, kernel_size=3, strides=2, padding='same', kernel_initializer='glorot_normal'))\n",
    "    model.add(LeakyReLU(alpha=0.2))\n",
    "    model.add(Dropout(0.2))\n",
    "\n",
    "    model.add(Conv2D(64, kernel_size=3, strides=1, padding='same', kernel_initializer='glorot_normal'))\n",
    "    model.add(LeakyReLU(alpha=0.2))\n",
    "    model.add(BatchNormalization(momentum=0.8))\n",
    "    model.add(Dropout(0.2))\n",
    "\n",
    "    model.add(Conv2D(128, kernel_size=3, strides=2, padding='same', kernel_initializer='glorot_normal'))\n",
    "    model.add(LeakyReLU(alpha=0.2))\n",
    "    model.add(BatchNormalization(momentum=0.8))\n",
    "    model.add(Dropout(0.2))\n",
    "\n",
    "    model.add(Conv2D(256, kernel_size=3, strides=1, padding='same', kernel_initializer='glorot_normal'))\n",
    "    model.add(LeakyReLU(alpha=0.2))\n",
    "    model.add(Dropout(0.2))\n",
    "\n",
    "    model.add(Flatten())\n",
    "    model.summary()\n",
    "    \n",
    "    image = Input(shape=img_shape)\n",
    "\n",
    "    features = model(image)\n",
    "\n",
    "    # first output (name=generation) is whether or not the discriminator\n",
    "    # thinks the image that is being shown is fake, and the second output\n",
    "    # (name=auxiliary) is the class that the discriminator thinks the image\n",
    "    # belongs to.\n",
    "    fake = Dense(1, activation='sigmoid', name='generation')(features)\n",
    "    label = Dense(num_class + 1, activation='softmax', name='auxiliary')(features)\n",
    "    disc_model = Model(inputs=image, outputs=[fake, label])\n",
    "    return disc_model\n"
   ]
  },
  {
   "cell_type": "markdown",
   "metadata": {},
   "source": [
    "### build model"
   ]
  },
  {
   "cell_type": "code",
   "execution_count": 4,
   "metadata": {
    "collapsed": false
   },
   "outputs": [
    {
     "name": "stdout",
     "output_type": "stream",
     "text": [
      "_________________________________________________________________\n",
      "Layer (type)                 Output Shape              Param #   \n",
      "=================================================================\n",
      "conv2d_1 (Conv2D)            (None, 14, 14, 32)        320       \n",
      "_________________________________________________________________\n",
      "leaky_re_lu_1 (LeakyReLU)    (None, 14, 14, 32)        0         \n",
      "_________________________________________________________________\n",
      "dropout_1 (Dropout)          (None, 14, 14, 32)        0         \n",
      "_________________________________________________________________\n",
      "conv2d_2 (Conv2D)            (None, 14, 14, 64)        18496     \n",
      "_________________________________________________________________\n",
      "leaky_re_lu_2 (LeakyReLU)    (None, 14, 14, 64)        0         \n",
      "_________________________________________________________________\n",
      "batch_normalization_1 (Batch (None, 14, 14, 64)        256       \n",
      "_________________________________________________________________\n",
      "dropout_2 (Dropout)          (None, 14, 14, 64)        0         \n",
      "_________________________________________________________________\n",
      "conv2d_3 (Conv2D)            (None, 7, 7, 128)         73856     \n",
      "_________________________________________________________________\n",
      "leaky_re_lu_3 (LeakyReLU)    (None, 7, 7, 128)         0         \n",
      "_________________________________________________________________\n",
      "batch_normalization_2 (Batch (None, 7, 7, 128)         512       \n",
      "_________________________________________________________________\n",
      "dropout_3 (Dropout)          (None, 7, 7, 128)         0         \n",
      "_________________________________________________________________\n",
      "conv2d_4 (Conv2D)            (None, 7, 7, 256)         295168    \n",
      "_________________________________________________________________\n",
      "leaky_re_lu_4 (LeakyReLU)    (None, 7, 7, 256)         0         \n",
      "_________________________________________________________________\n",
      "dropout_4 (Dropout)          (None, 7, 7, 256)         0         \n",
      "_________________________________________________________________\n",
      "flatten_1 (Flatten)          (None, 12544)             0         \n",
      "=================================================================\n",
      "Total params: 388,608\n",
      "Trainable params: 388,224\n",
      "Non-trainable params: 384\n",
      "_________________________________________________________________\n",
      "_________________________________________________________________\n",
      "Layer (type)                 Output Shape              Param #   \n",
      "=================================================================\n",
      "dense_1 (Dense)              (None, 6272)              633472    \n",
      "_________________________________________________________________\n",
      "reshape_1 (Reshape)          (None, 7, 7, 128)         0         \n",
      "_________________________________________________________________\n",
      "conv2d_transpose_1 (Conv2DTr (None, 7, 7, 256)         295168    \n",
      "_________________________________________________________________\n",
      "batch_normalization_3 (Batch (None, 7, 7, 256)         1024      \n",
      "_________________________________________________________________\n",
      "conv2d_transpose_2 (Conv2DTr (None, 14, 14, 128)       295040    \n",
      "_________________________________________________________________\n",
      "batch_normalization_4 (Batch (None, 14, 14, 128)       512       \n",
      "_________________________________________________________________\n",
      "conv2d_transpose_3 (Conv2DTr (None, 28, 28, 64)        73792     \n",
      "_________________________________________________________________\n",
      "batch_normalization_5 (Batch (None, 28, 28, 64)        256       \n",
      "_________________________________________________________________\n",
      "conv2d_transpose_4 (Conv2DTr (None, 28, 28, 1)         577       \n",
      "=================================================================\n",
      "Total params: 1,299,841\n",
      "Trainable params: 1,298,945\n",
      "Non-trainable params: 896\n",
      "_________________________________________________________________\n",
      "__________________________________________________________________________________________________\n",
      "Layer (type)                    Output Shape         Param #     Connected to                     \n",
      "==================================================================================================\n",
      "input_4 (InputLayer)            (None, 100)          0                                            \n",
      "__________________________________________________________________________________________________\n",
      "input_5 (InputLayer)            (None, 1)            0                                            \n",
      "__________________________________________________________________________________________________\n",
      "model_2 (Model)                 (None, 28, 28, 1)    1300841     input_4[0][0]                    \n",
      "                                                                 input_5[0][0]                    \n",
      "__________________________________________________________________________________________________\n",
      "model_1 (Model)                 [(None, 1), (None, 1 539148      model_2[1][0]                    \n",
      "==================================================================================================\n",
      "Total params: 1,839,989\n",
      "Trainable params: 1,299,945\n",
      "Non-trainable params: 540,044\n",
      "__________________________________________________________________________________________________\n"
     ]
    }
   ],
   "source": [
    "latent_size = 100\n",
    "\n",
    "# Adam parameters  https://arxiv.org/abs/1511.06434\n",
    "adam_lr = 0.0002\n",
    "adam_beta_1 = 0.5\n",
    "\n",
    "img_shape = (28, 28, 1)\n",
    "num_class = 10\n",
    "\n",
    "# build the discriminator\n",
    "discriminator = build_discriminator(img_shape, num_class)\n",
    "discriminator.compile(optimizer=Adam(lr=adam_lr, beta_1=adam_beta_1),\n",
    "                      loss=['binary_crossentropy', 'sparse_categorical_crossentropy'])\n",
    "\n",
    "# build the generator\n",
    "generator = build_generator(latent_size, num_class)\n",
    "generator.compile(optimizer=Adam(lr=adam_lr, beta_1=adam_beta_1), \n",
    "                  loss='binary_crossentropy')\n",
    "\n",
    "latent = Input(shape=(latent_size, ))\n",
    "image_class = Input(shape=(1,), dtype='int32')\n",
    "\n",
    "# get a fake image\n",
    "fake = generator([latent, image_class])\n",
    "\n",
    "discriminator.trainable = False\n",
    "fake, aux = discriminator(fake)\n",
    "\n",
    "combined = Model(inputs=[latent, image_class], outputs=[fake, aux])\n",
    "combined.compile(optimizer=Adam(lr=adam_lr, beta_1=adam_beta_1),\n",
    "                 loss=['binary_crossentropy', 'sparse_categorical_crossentropy'])\n",
    "\n",
    "combined.summary()"
   ]
  },
  {
   "cell_type": "code",
   "execution_count": 5,
   "metadata": {
    "collapsed": true
   },
   "outputs": [],
   "source": [
    "(X_train, y_train), (_, _) = mnist.load_data()\n",
    "\n",
    "X_train = (X_train.astype(np.float32) - 127.5) / 127.5\n",
    "X_train = np.expand_dims(X_train, axis=3)\n",
    "y_train = y_train.reshape(-1, 1)"
   ]
  },
  {
   "cell_type": "code",
   "execution_count": 6,
   "metadata": {
    "collapsed": false
   },
   "outputs": [],
   "source": [
    "def train(X_train, y_train, epochs=3, batch_size=64, sample_interval=50):\n",
    "\n",
    "    valid = np.ones((batch_size, 1))\n",
    "    fake = np.zeros((batch_size, 1))\n",
    "    \n",
    "    losses = []\n",
    "    for epoch in range(epochs):\n",
    "        #  Train Discriminator\n",
    "        idx = np.random.randint(0, X_train.shape[0], batch_size)\n",
    "        imgs = X_train[idx]\n",
    "        \n",
    "        noise = np.random.normal(0, 1, (batch_size, 100))\n",
    "        #noise = np.random.uniform(-1.0, 1.0, size=[batch_size, 100])\n",
    "        sampled_labels = np.random.randint(0, 10, (batch_size, 1))\n",
    "        \n",
    "        gen_imgs = generator.predict([noise, sampled_labels])\n",
    "        img_labels = y_train[idx]\n",
    "        fake_labels = 10 * np.ones(img_labels.shape)\n",
    "\n",
    "        d_loss_real = discriminator.train_on_batch(imgs, [valid, img_labels])\n",
    "        d_loss_fake = discriminator.train_on_batch(gen_imgs, [fake, fake_labels])\n",
    "        d_loss = 0.5 * np.add(d_loss_real, d_loss_fake)\n",
    "        \n",
    "        #  Train Generator\n",
    "        g_loss = combined.train_on_batch([noise, sampled_labels], [valid, sampled_labels])\n",
    "\n",
    "        losses.append((d_loss_real[0], d_loss_fake[0], d_loss[0], g_loss[0]))\n",
    "        \n",
    "        if epoch % sample_interval == 0:\n",
    "            print (\"epoch: %d [D loss: %f, acc.: %.2f%%] [G loss: %f]\" % (epoch, d_loss[0], 100*d_loss[1],  g_loss[0]))\n",
    "            save_images(generator, epoch)\n",
    "    return losses"
   ]
  },
  {
   "cell_type": "code",
   "execution_count": 7,
   "metadata": {
    "collapsed": true
   },
   "outputs": [],
   "source": [
    "import os\n",
    "def save_images(generator, epoch):\n",
    "    r, c = 10, 10\n",
    "    noise = np.random.normal(0, 1, (r * c, 100))\n",
    "    sampled_labels = np.array([num for _ in range(r) for num in range(c)])\n",
    "    gen_imgs = generator.predict([noise, sampled_labels])\n",
    "        # Rescale images 0 - 1\n",
    "    gen_imgs = 0.5 * gen_imgs + 0.5\n",
    "\n",
    "    fig, axs = plt.subplots(r, c)\n",
    "    cnt = 0\n",
    "    for i in range(r):\n",
    "        for j in range(c):\n",
    "            axs[i,j].imshow(gen_imgs[cnt,:,:,0], cmap='gray')\n",
    "            axs[i,j].axis('off')\n",
    "            cnt += 1\n",
    "            \n",
    "    if not os.path.exists(\"images\"):\n",
    "        os.makedirs(\"images\")            \n",
    "    fig.savefig(\"images/%d.png\" % epoch)\n",
    "    plt.close()"
   ]
  },
  {
   "cell_type": "code",
   "execution_count": 8,
   "metadata": {
    "collapsed": false
   },
   "outputs": [
    {
     "name": "stderr",
     "output_type": "stream",
     "text": [
      "D:\\Anaconda3\\envs\\tensorflow\\lib\\site-packages\\keras\\engine\\training.py:973: UserWarning: Discrepancy between trainable weights and collected trainable weights, did you set `model.trainable` without calling `model.compile` after ?\n",
      "  'Discrepancy between trainable weights and collected trainable'\n"
     ]
    },
    {
     "name": "stdout",
     "output_type": "stream",
     "text": [
      "epoch: 0 [D loss: 3.209059, acc.: 64.47%] [G loss: 3.193944]\n",
      "epoch: 100 [D loss: 0.256219, acc.: 0.03%] [G loss: 1.838903]\n",
      "epoch: 200 [D loss: 0.114352, acc.: 0.07%] [G loss: 0.537587]\n",
      "epoch: 300 [D loss: 0.148201, acc.: 0.13%] [G loss: 0.266159]\n",
      "epoch: 400 [D loss: 0.063065, acc.: 0.25%] [G loss: 0.301385]\n",
      "epoch: 500 [D loss: 0.368798, acc.: 6.99%] [G loss: 12.002354]\n",
      "epoch: 600 [D loss: 0.196742, acc.: 2.94%] [G loss: 0.740837]\n",
      "epoch: 700 [D loss: 0.987249, acc.: 53.54%] [G loss: 8.641093]\n",
      "epoch: 800 [D loss: 1.842375, acc.: 87.99%] [G loss: 4.871350]\n",
      "epoch: 900 [D loss: 1.730732, acc.: 72.23%] [G loss: 3.352435]\n",
      "epoch: 1000 [D loss: 1.430712, acc.: 70.17%] [G loss: 3.391946]\n",
      "epoch: 1100 [D loss: 1.515302, acc.: 68.24%] [G loss: 3.145463]\n",
      "epoch: 1200 [D loss: 1.576212, acc.: 70.34%] [G loss: 2.910950]\n",
      "epoch: 1300 [D loss: 1.415855, acc.: 67.65%] [G loss: 2.697989]\n",
      "epoch: 1400 [D loss: 1.695346, acc.: 84.78%] [G loss: 2.623060]\n",
      "epoch: 1500 [D loss: 1.562347, acc.: 70.45%] [G loss: 2.581491]\n",
      "epoch: 1600 [D loss: 1.448267, acc.: 69.43%] [G loss: 2.478443]\n",
      "epoch: 1700 [D loss: 1.573130, acc.: 71.16%] [G loss: 2.243000]\n",
      "epoch: 1800 [D loss: 1.611204, acc.: 73.69%] [G loss: 2.370322]\n",
      "epoch: 1900 [D loss: 1.663117, acc.: 74.69%] [G loss: 2.453544]\n",
      "epoch: 2000 [D loss: 1.714585, acc.: 74.69%] [G loss: 2.353573]\n",
      "epoch: 2100 [D loss: 1.609713, acc.: 76.06%] [G loss: 2.215899]\n",
      "epoch: 2200 [D loss: 1.633877, acc.: 71.41%] [G loss: 2.178096]\n",
      "epoch: 2300 [D loss: 1.477194, acc.: 69.00%] [G loss: 2.213489]\n",
      "epoch: 2400 [D loss: 1.804662, acc.: 77.80%] [G loss: 2.004240]\n",
      "epoch: 2500 [D loss: 1.530844, acc.: 71.75%] [G loss: 2.339004]\n",
      "epoch: 2600 [D loss: 1.513731, acc.: 69.44%] [G loss: 1.848169]\n",
      "epoch: 2700 [D loss: 1.587615, acc.: 71.23%] [G loss: 2.100430]\n",
      "epoch: 2800 [D loss: 1.643264, acc.: 73.26%] [G loss: 2.006355]\n",
      "epoch: 2900 [D loss: 1.560808, acc.: 71.46%] [G loss: 1.929096]\n",
      "epoch: 3000 [D loss: 1.722150, acc.: 76.43%] [G loss: 1.956190]\n",
      "epoch: 3100 [D loss: 1.662193, acc.: 71.51%] [G loss: 1.965681]\n",
      "epoch: 3200 [D loss: 1.776564, acc.: 75.11%] [G loss: 1.824866]\n",
      "epoch: 3300 [D loss: 1.570841, acc.: 69.88%] [G loss: 2.010375]\n",
      "epoch: 3400 [D loss: 1.689476, acc.: 73.98%] [G loss: 1.760303]\n"
     ]
    }
   ],
   "source": [
    "losses = train(X_train, y_train, epochs=3500, batch_size=64, sample_interval=100)"
   ]
  },
  {
   "cell_type": "code",
   "execution_count": 14,
   "metadata": {
    "collapsed": false
   },
   "outputs": [
    {
     "data": {
      "text/plain": [
       "<matplotlib.legend.Legend at 0x9f9ca940>"
      ]
     },
     "execution_count": 14,
     "metadata": {},
     "output_type": "execute_result"
    },
    {
     "data": {
      "image/png": "[encoded data removed]",
      "text/plain": [
       "<matplotlib.figure.Figure at 0x9f501940>"
      ]
     },
     "metadata": {},
     "output_type": "display_data"
    }
   ],
   "source": [
    "fig, ax = plt.subplots(figsize=(20,8))\n",
    "losses = np.array(losses)\n",
    "plt.plot(losses.T[0], label='Discriminator Real Loss')\n",
    "plt.plot(losses.T[1], label='Discriminator Fake Loss')\n",
    "plt.plot(losses.T[2], label='Discriminator Total Loss')\n",
    "plt.plot(losses.T[3], label='Generator Loss')\n",
    "plt.title(\"Training Losses\")\n",
    "plt.legend()"
   ]
  }
 ],
 "metadata": {
  "kernelspec": {
   "display_name": "python3.5",
   "language": "python",
   "name": "python3.5"
  },
  "language_info": {
   "codemirror_mode": {
    "name": "ipython",
    "version": 3
   },
   "file_extension": ".py",
   "mimetype": "text/x-python",
   "name": "python",
   "nbconvert_exporter": "python",
   "pygments_lexer": "ipython3",
   "version": "3.5.3"
  },
  "latex_envs": {
   "LaTeX_envs_menu_present": true,
   "autocomplete": true,
   "bibliofile": "biblio.bib",
   "cite_by": "apalike",
   "current_citInitial": 1,
   "eqLabelWithNumbers": true,
   "eqNumInitial": 1,
   "hotkeys": {
    "equation": "Ctrl-E",
    "itemize": "Ctrl-I"
   },
   "labels_anchors": false,
   "latex_user_defs": false,
   "report_style_numbering": false,
   "user_envs_cfg": false
  }
 },
 "nbformat": 4,
 "nbformat_minor": 2
}
