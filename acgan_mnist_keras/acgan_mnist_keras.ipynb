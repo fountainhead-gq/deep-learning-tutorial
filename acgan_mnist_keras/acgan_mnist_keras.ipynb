{
 "cells": [
  {
   "cell_type": "code",
   "execution_count": 1,
   "metadata": {
    "collapsed": false
   },
   "outputs": [
    {
     "name": "stderr",
     "output_type": "stream",
     "text": [
      "Using TensorFlow backend.\n"
     ]
    }
   ],
   "source": [
    "from keras.layers import Input, Dense, Reshape, Flatten, Embedding, Dropout\n",
    "from keras.layers import LeakyReLU\n",
    "from keras.layers import multiply\n",
    "from keras.layers import BatchNormalization\n",
    "from keras.layers import Conv2D, UpSampling2D\n",
    "from keras.layers import Reshape, Conv2DTranspose\n",
    "from keras.models import Sequential, Model\n",
    "from keras.optimizers import Adam\n",
    "from keras.layers.noise import GaussianNoise\n",
    "import keras.backend as K\n",
    "from keras.datasets import mnist\n",
    "\n",
    "from PIL import Image\n",
    "import matplotlib.pyplot as plt\n",
    "import numpy as np\n",
    "\n",
    "%matplotlib inline\n",
    "# np.random.seed(2018)"
   ]
  },
  {
   "cell_type": "markdown",
   "metadata": {},
   "source": [
    "### generator"
   ]
  },
  {
   "cell_type": "code",
   "execution_count": 2,
   "metadata": {
    "collapsed": true
   },
   "outputs": [],
   "source": [
    "def build_generator(latent_size):\n",
    "    model = Sequential()\n",
    "    # model.add(Dense(1024, input_dim=latent_size, activation='relu'))\n",
    "    model.add(Dense(128 * 7 * 7, activation=\"relu\", input_dim=latent_size))\n",
    "    model.add(Reshape((7, 7, 128)))\n",
    "\n",
    "    model.add(Conv2DTranspose(256, kernel_size=5, strides=1, padding='same',\n",
    "                              activation='relu', kernel_initializer='glorot_normal'))\n",
    "    model.add(BatchNormalization())\n",
    "    \n",
    "    model.add(Conv2DTranspose(128, kernel_size=5, strides=2, padding='same', \n",
    "                              activation='relu', kernel_initializer='glorot_normal'))\n",
    "    model.add(BatchNormalization())\n",
    "    \n",
    "    model.add(Conv2DTranspose(64, kernel_size=5, strides=2, padding='same', \n",
    "                              activation='relu', kernel_initializer='glorot_normal'))\n",
    "    model.add(BatchNormalization())  \n",
    "    \n",
    "    model.add(Conv2DTranspose(1, kernel_size=3, strides=1, padding='same', \n",
    "                              activation='tanh', kernel_initializer='glorot_normal'))\n",
    "\n",
    "    # this is the z space commonly refered to in GAN papers\n",
    "    latent = Input(shape=(latent_size, ))\n",
    "\n",
    "    # label\n",
    "    image_label = Input(shape=(1,), dtype='int32')\n",
    "\n",
    "    # 10 classes in MNIST\n",
    "    embed = Embedding(10, latent_size, embeddings_initializer='glorot_normal')(image_label)\n",
    "    label_embed = Flatten()(embed)\n",
    "\n",
    "    model_input = multiply([latent, label_embed])\n",
    "\n",
    "    fake_image = model(model_input)\n",
    "    gen_model =  Model(inputs=[latent, image_label], outputs=fake_image)   \n",
    "    return gen_model"
   ]
  },
  {
   "cell_type": "markdown",
   "metadata": {},
   "source": [
    "### discriminator"
   ]
  },
  {
   "cell_type": "code",
   "execution_count": 3,
   "metadata": {
    "collapsed": true
   },
   "outputs": [],
   "source": [
    "def build_discriminator():\n",
    "    model = Sequential()\n",
    "    # model.add(Conv2D(32, kernel_size=3, strides=2, padding='same', input_shape=(28, 28, 1),kernel_initializer='glorot_normal'))\n",
    "    model.add(GaussianNoise(0.05, input_shape=(28, 28, 1))) \n",
    "    model.add(Conv2D(32, kernel_size=3, strides=2, padding='same', kernel_initializer='glorot_normal'))\n",
    "    model.add(LeakyReLU(alpha=0.2))\n",
    "    model.add(Dropout(0.2))\n",
    "\n",
    "    model.add(Conv2D(64, kernel_size=3, strides=1, padding='same', kernel_initializer='glorot_normal'))\n",
    "    model.add(LeakyReLU(alpha=0.2))\n",
    "    model.add(BatchNormalization(momentum=0.8))\n",
    "    model.add(Dropout(0.2))\n",
    "\n",
    "    model.add(Conv2D(128, kernel_size=3, strides=2, padding='same', kernel_initializer='glorot_normal'))\n",
    "    model.add(LeakyReLU(alpha=0.2))\n",
    "    model.add(BatchNormalization(momentum=0.8))\n",
    "    model.add(Dropout(0.2))\n",
    "\n",
    "    model.add(Conv2D(256, kernel_size=3, strides=1, padding='same', kernel_initializer='glorot_normal'))\n",
    "    model.add(LeakyReLU(alpha=0.2))\n",
    "    model.add(Dropout(0.2))\n",
    "\n",
    "    model.add(Flatten())\n",
    "\n",
    "    image = Input(shape=(28, 28, 1))\n",
    "\n",
    "    features = model(image)\n",
    "\n",
    "    # first output (name=generation) is whether or not the discriminator\n",
    "    # thinks the image that is being shown is fake, and the second output\n",
    "    # (name=auxiliary) is the class that the discriminator thinks the image\n",
    "    # belongs to.\n",
    "    fake = Dense(1, activation='sigmoid', name='generation')(features)\n",
    "    aux = Dense(11, activation='softmax', name='auxiliary')(features)\n",
    "\n",
    "    return Model(inputs=image, outputs=[fake, aux])\n"
   ]
  },
  {
   "cell_type": "markdown",
   "metadata": {},
   "source": [
    "### build model"
   ]
  },
  {
   "cell_type": "code",
   "execution_count": 4,
   "metadata": {
    "collapsed": false
   },
   "outputs": [
    {
     "name": "stdout",
     "output_type": "stream",
     "text": [
      "__________________________________________________________________________________________________\n",
      "Layer (type)                    Output Shape         Param #     Connected to                     \n",
      "==================================================================================================\n",
      "input_4 (InputLayer)            (None, 100)          0                                            \n",
      "__________________________________________________________________________________________________\n",
      "input_5 (InputLayer)            (None, 1)            0                                            \n",
      "__________________________________________________________________________________________________\n",
      "model_2 (Model)                 (None, 28, 28, 1)    2480489     input_4[0][0]                    \n",
      "                                                                 input_5[0][0]                    \n",
      "__________________________________________________________________________________________________\n",
      "model_1 (Model)                 [(None, 1), (None, 1 539148      model_2[1][0]                    \n",
      "==================================================================================================\n",
      "Total params: 3,019,637\n",
      "Trainable params: 2,479,593\n",
      "Non-trainable params: 540,044\n",
      "__________________________________________________________________________________________________\n"
     ]
    }
   ],
   "source": [
    "latent_size = 100\n",
    "\n",
    "# Adam parameters  https://arxiv.org/abs/1511.06434\n",
    "adam_lr = 0.0002\n",
    "adam_beta_1 = 0.5\n",
    "\n",
    "# build the discriminator\n",
    "discriminator = build_discriminator()\n",
    "discriminator.compile(optimizer=Adam(lr=adam_lr, beta_1=adam_beta_1),\n",
    "                      loss=['binary_crossentropy', 'sparse_categorical_crossentropy'])\n",
    "# discriminator.summary()\n",
    "\n",
    "# build the generator\n",
    "generator = build_generator(latent_size)\n",
    "generator.compile(optimizer=Adam(lr=adam_lr, beta_1=adam_beta_1), \n",
    "                  loss='binary_crossentropy')\n",
    "# generator.summary()\n",
    "\n",
    "latent = Input(shape=(latent_size, ))\n",
    "image_class = Input(shape=(1,), dtype='int32')\n",
    "\n",
    "# get a fake image\n",
    "fake = generator([latent, image_class])\n",
    "\n",
    "discriminator.trainable = False\n",
    "fake, aux = discriminator(fake)\n",
    "\n",
    "combined = Model(inputs=[latent, image_class], outputs=[fake, aux])\n",
    "combined.compile(optimizer=Adam(lr=adam_lr, beta_1=adam_beta_1),\n",
    "                 loss=['binary_crossentropy', 'sparse_categorical_crossentropy'])\n",
    "\n",
    "combined.summary()"
   ]
  },
  {
   "cell_type": "code",
   "execution_count": 5,
   "metadata": {
    "collapsed": true
   },
   "outputs": [],
   "source": [
    "(X_train, y_train), (_, _) = mnist.load_data()\n",
    "\n",
    "X_train = (X_train.astype(np.float32) - 127.5) / 127.5\n",
    "X_train = np.expand_dims(X_train, axis=3)\n",
    "y_train = y_train.reshape(-1, 1)"
   ]
  },
  {
   "cell_type": "code",
   "execution_count": 6,
   "metadata": {
    "collapsed": false
   },
   "outputs": [],
   "source": [
    "def train(X_train, y_train, epochs=3, batch_size=64, sample_interval=50):\n",
    "\n",
    "    valid = np.ones((batch_size, 1))\n",
    "    fake = np.zeros((batch_size, 1))\n",
    "\n",
    "    for epoch in range(epochs):\n",
    "        idx = np.random.randint(0, X_train.shape[0], batch_size)\n",
    "        imgs = X_train[idx]\n",
    "        \n",
    "        #noise = np.random.normal(0, 1, (batch_size, 100))\n",
    "        noise = np.random.uniform(-1.0, 1.0, size=[batch_size, 100])\n",
    "            \n",
    "        sampled_labels = np.random.randint(0, 10, (batch_size, 1))\n",
    "\n",
    "        gen_imgs = generator.predict([noise, sampled_labels])\n",
    "\n",
    "        img_labels = y_train[idx]\n",
    "        fake_labels = 10 * np.ones(img_labels.shape)\n",
    "\n",
    "        d_loss_real = discriminator.train_on_batch(imgs, [valid, img_labels])\n",
    "        d_loss_fake = discriminator.train_on_batch(gen_imgs, [fake, fake_labels])\n",
    "        d_loss = 0.5 * np.add(d_loss_real, d_loss_fake)\n",
    "\n",
    "        g_loss = combined.train_on_batch([noise, sampled_labels], [valid, sampled_labels])\n",
    "        \n",
    "        if epoch % sample_interval == 0:\n",
    "            print (\"epoch: %d [D loss: %f, acc.: %.2f%%] [G loss: %f]\" % (epoch, d_loss[0], 100*d_loss[1],  g_loss[0]))\n",
    "            save_images(generator, epoch)"
   ]
  },
  {
   "cell_type": "code",
   "execution_count": 7,
   "metadata": {
    "collapsed": true
   },
   "outputs": [],
   "source": [
    "import os\n",
    "def save_images(generator, epoch):\n",
    "    r, c = 10, 10\n",
    "    noise = np.random.normal(0, 1, (r * c, 100))\n",
    "    sampled_labels = np.array([num for _ in range(r) for num in range(c)])\n",
    "    gen_imgs = generator.predict([noise, sampled_labels])\n",
    "        # Rescale images 0 - 1\n",
    "    gen_imgs = 0.5 * gen_imgs + 0.5\n",
    "\n",
    "    fig, axs = plt.subplots(r, c)\n",
    "    cnt = 0\n",
    "    for i in range(r):\n",
    "        for j in range(c):\n",
    "            axs[i,j].imshow(gen_imgs[cnt,:,:,0], cmap='gray')\n",
    "            axs[i,j].axis('off')\n",
    "            cnt += 1\n",
    "            \n",
    "    if not os.path.exists(\"images\"):\n",
    "        os.makedirs(\"images\")            \n",
    "    fig.savefig(\"images/%d.png\" % epoch)\n",
    "    plt.close()"
   ]
  },
  {
   "cell_type": "code",
   "execution_count": 8,
   "metadata": {
    "collapsed": false
   },
   "outputs": [],
   "source": [
    "train(X_train, y_train, epochs=2500, batch_size=64, sample_interval=50)"
   ]
  },
  {
   "cell_type": "code",
   "execution_count": null,
   "metadata": {
    "collapsed": true
   },
   "outputs": [],
   "source": []
  }
 ],
 "metadata": {
  "kernelspec": {
   "display_name": "python3.5",
   "language": "python",
   "name": "python3.5"
  },
  "language_info": {
   "codemirror_mode": {
    "name": "ipython",
    "version": 3
   },
   "file_extension": ".py",
   "mimetype": "text/x-python",
   "name": "python",
   "nbconvert_exporter": "python",
   "pygments_lexer": "ipython3",
   "version": "3.5.3"
  },
  "latex_envs": {
   "LaTeX_envs_menu_present": true,
   "autocomplete": true,
   "bibliofile": "biblio.bib",
   "cite_by": "apalike",
   "current_citInitial": 1,
   "eqLabelWithNumbers": true,
   "eqNumInitial": 1,
   "hotkeys": {
    "equation": "Ctrl-E",
    "itemize": "Ctrl-I"
   },
   "labels_anchors": false,
   "latex_user_defs": false,
   "report_style_numbering": false,
   "user_envs_cfg": false
  }
 },
 "nbformat": 4,
 "nbformat_minor": 2
}
