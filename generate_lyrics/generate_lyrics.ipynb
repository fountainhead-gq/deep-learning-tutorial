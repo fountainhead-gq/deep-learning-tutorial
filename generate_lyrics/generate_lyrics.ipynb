{
 "cells": [
  {
   "cell_type": "markdown",
   "metadata": {},
   "source": [
    "# 基于Embedding生成歌词\n",
    "\n",
    "基于词粒度对RNN进行训练，文本采用中文歌词的分词文本。模型中加入Embedding层来降低输入词的维度。"
   ]
  },
  {
   "cell_type": "markdown",
   "metadata": {},
   "source": [
    "# 1 读取数据"
   ]
  },
  {
   "cell_type": "code",
   "execution_count": 1,
   "metadata": {},
   "outputs": [],
   "source": [
    "import os, glob\n",
    "import pandas as pd\n",
    "from utils import *\n",
    "\n",
    "# path  = os.getcwd() \n",
    "# path = os.path.join(path, \"Chinese_Lyrics\")\n",
    "# stefanie_path = os.path.join(path, r\"孙燕姿_9272\")\n",
    "\n",
    "# stefanie_txt = 'Stefanie.txt'\n",
    "# merge_txt(stefanie_path, stefanie_txt)\n",
    "\n",
    "path  = os.getcwd() \n",
    "path = os.path.join(path, \"data\")\n",
    "train_txt = 'train.txt'\n",
    "merge_txt(path, train_txt)"
   ]
  },
  {
   "cell_type": "code",
   "execution_count": 2,
   "metadata": {},
   "outputs": [
    {
     "name": "stderr",
     "output_type": "stream",
     "text": [
      "Building prefix dict from the default dictionary ...\n",
      "Loading model from cache /tmp/jieba.cache\n",
      "Loading model cost 0.838 seconds.\n",
      "Prefix dict has been built succesfully.\n"
     ]
    },
    {
     "name": "stdout",
     "output_type": "stream",
     "text": [
      "done.\n"
     ]
    }
   ],
   "source": [
    "# train_txt = 'train.txt'\n",
    "train_split = 'train_split.txt'\n",
    "\n",
    "split_txt(train_txt, train_split)"
   ]
  },
  {
   "cell_type": "code",
   "execution_count": 3,
   "metadata": {},
   "outputs": [],
   "source": [
    "# stefanie_data = pd.read_csv(stefanie_split, sep=' ' , header=None)"
   ]
  },
  {
   "cell_type": "code",
   "execution_count": 4,
   "metadata": {},
   "outputs": [],
   "source": [
    "def load_data(fname):\n",
    "    with open(fname, 'r') as f:\n",
    "        text = f.read()\n",
    "    \n",
    "    data = text.split()\n",
    "    return data"
   ]
  },
  {
   "cell_type": "code",
   "execution_count": 5,
   "metadata": {},
   "outputs": [],
   "source": [
    "text = load_data(train_split)"
   ]
  },
  {
   "cell_type": "code",
   "execution_count": 6,
   "metadata": {},
   "outputs": [
    {
     "name": "stdout",
     "output_type": "stream",
     "text": [
      "前30个词: ['haoxuan', '灰色', '的', '气压', ';', '扭曲', '的', '脸', ';', '好闷', '生活', '颜色', '比', '天黑', '不想', '负责', '的', '就', '无解', ';', '爱情', '像', '潜水', '氧气', '剩', '一些', ';', '无法', '呼吸', '的']\n"
     ]
    }
   ],
   "source": [
    "print(\"前30个词: {}\".format(text[:30]))"
   ]
  },
  {
   "cell_type": "markdown",
   "metadata": {},
   "source": [
    "# 2 数据预处理"
   ]
  },
  {
   "cell_type": "code",
   "execution_count": 7,
   "metadata": {},
   "outputs": [],
   "source": [
    "# 构造词典及映射\n",
    "vocab = set(text)\n",
    "vocab_to_int = {w: idx for idx, w in enumerate(vocab)}\n",
    "int_to_vocab = {idx: w for idx, w in enumerate(vocab)}"
   ]
  },
  {
   "cell_type": "code",
   "execution_count": 8,
   "metadata": {},
   "outputs": [
    {
     "name": "stdout",
     "output_type": "stream",
     "text": [
      "Total words: 371408\n",
      "Vocab size: 23940\n"
     ]
    }
   ],
   "source": [
    "print('Total words: {}'.format(len(text)))\n",
    "print('Vocab size: {}'.format(len(vocab)))"
   ]
  },
  {
   "cell_type": "code",
   "execution_count": 9,
   "metadata": {},
   "outputs": [],
   "source": [
    "# 转换文本为整数\n",
    "int_text = [vocab_to_int[w] for w in text]"
   ]
  },
  {
   "cell_type": "markdown",
   "metadata": {},
   "source": [
    "# 3 构建网络"
   ]
  },
  {
   "cell_type": "code",
   "execution_count": 10,
   "metadata": {},
   "outputs": [],
   "source": [
    "from distutils.version import LooseVersion\n",
    "import warnings\n",
    "import tensorflow as tf\n",
    "import numpy as np"
   ]
  },
  {
   "cell_type": "code",
   "execution_count": 11,
   "metadata": {},
   "outputs": [
    {
     "name": "stdout",
     "output_type": "stream",
     "text": [
      "TensorFlow版本: 1.0.0\n",
      "默认GPU设备: /gpu:0\n"
     ]
    }
   ],
   "source": [
    "# Check TensorFlow Version\n",
    "assert LooseVersion(tf.__version__) >= LooseVersion('1.0'), 'Please use TensorFlow version 1.0 or newer'\n",
    "print('TensorFlow版本: {}'.format(tf.__version__))\n",
    "\n",
    "# Check for a GPU\n",
    "if not tf.test.gpu_device_name():\n",
    "    warnings.warn('未发现GPU，请使用GPU进行训练！')\n",
    "else:\n",
    "    print('默认GPU设备: {}'.format(tf.test.gpu_device_name()))"
   ]
  },
  {
   "cell_type": "markdown",
   "metadata": {},
   "source": [
    "## 输入层"
   ]
  },
  {
   "cell_type": "code",
   "execution_count": 12,
   "metadata": {},
   "outputs": [],
   "source": [
    "def get_inputs():\n",
    "    inputs = tf.placeholder(tf.int32, [None, None], name='inputs')\n",
    "    targets = tf.placeholder(tf.int32, [None, None], name='targets')\n",
    "    learning_rate = tf.placeholder(tf.float32, None, name='learning_rate')\n",
    "    return inputs, targets, learning_rate"
   ]
  },
  {
   "cell_type": "markdown",
   "metadata": {},
   "source": [
    "## RNN Cell"
   ]
  },
  {
   "cell_type": "code",
   "execution_count": 13,
   "metadata": {},
   "outputs": [],
   "source": [
    "# def get_init_cell(batch_size, rnn_size):\n",
    "#     '''\n",
    "#     构建堆叠RNN单元\n",
    "    \n",
    "#     参数\n",
    "#     ---\n",
    "#     batch_size: 每个batch的大小\n",
    "#     rnn_size: RNN隐层神经元个数\n",
    "#     '''\n",
    "#     lstm = tf.contrib.rnn.BasicLSTMCell(rnn_size)\n",
    "#     cell = tf.contrib.rnn.MultiRNNCell([lstm])\n",
    "    \n",
    "#     initial_state = cell.zero_state(batch_size, tf.float32)\n",
    "#     initial_state = tf.identity(initial_state, 'initial_state')\n",
    "#     return cell, initial_state"
   ]
  },
  {
   "cell_type": "code",
   "execution_count": 14,
   "metadata": {},
   "outputs": [],
   "source": [
    "def get_init_cell(batch_size, rnn_size):\n",
    "    \"\"\"\n",
    "    Create an RNN Cell and initialize it.\n",
    "    :param batch_size: Size of batches\n",
    "    :param rnn_size: Size of RNNs\n",
    "    :return: Tuple (cell, initialize state)\n",
    "    \"\"\"\n",
    "    \n",
    "    n_layers = 2\n",
    "    def make_lstm(rnn_size):\n",
    "        return tf.contrib.rnn.BasicLSTMCell(rnn_size)\n",
    "    \n",
    "    cell = tf.contrib.rnn.MultiRNNCell([make_lstm(rnn_size) for _ in range(n_layers)])\n",
    "    initial_state = cell.zero_state(batch_size, tf.float32)\n",
    "    initial_state = tf.identity(initial_state, name='initial_state')\n",
    "    return cell, initial_state\n"
   ]
  },
  {
   "cell_type": "markdown",
   "metadata": {},
   "source": [
    "# Word Embedding"
   ]
  },
  {
   "cell_type": "code",
   "execution_count": 15,
   "metadata": {},
   "outputs": [],
   "source": [
    "def get_embed(input_data, vocab_size, embed_dim):\n",
    "    '''\n",
    "    单词太多，需要进行embedding\n",
    "    \n",
    "    参数\n",
    "    ---\n",
    "    input_data: 输入的tensor\n",
    "    vocab_size: 词汇表大小\n",
    "    embed_dim: 嵌入维度\n",
    "    '''\n",
    "    embedding = tf.Variable(tf.random_uniform([vocab_size, embed_dim], -1, 1))\n",
    "    embed = tf.nn.embedding_lookup(embedding, input_data)\n",
    "    \n",
    "    return embed"
   ]
  },
  {
   "cell_type": "markdown",
   "metadata": {},
   "source": [
    "# Build RNN"
   ]
  },
  {
   "cell_type": "code",
   "execution_count": 16,
   "metadata": {},
   "outputs": [],
   "source": [
    "def build_rnn(cell, inputs):\n",
    "    '''\n",
    "    构建RNN模型\n",
    "    \n",
    "    参数:\n",
    "    ---\n",
    "    cell: RNN单元\n",
    "    inputs: 输入的batch\n",
    "    '''\n",
    "    outputs, final_state = tf.nn.dynamic_rnn(cell, inputs, dtype=tf.float32)\n",
    "    final_state = tf.identity(final_state, 'final_state')\n",
    "    return outputs, final_state"
   ]
  },
  {
   "cell_type": "markdown",
   "metadata": {},
   "source": [
    "# Build Neural Network"
   ]
  },
  {
   "cell_type": "code",
   "execution_count": 17,
   "metadata": {},
   "outputs": [],
   "source": [
    "def build_nn(cell, rnn_size, input_data, vocab_size, embed_dim):\n",
    "    '''\n",
    "    构建神经网络，将RNN层与全连接层相连\n",
    "    \n",
    "    参数:\n",
    "    ---\n",
    "    cell: RNN单元\n",
    "    rnn_size: RNN隐层结点数量\n",
    "    input_data: input tensor\n",
    "    vocab_size\n",
    "    embed_dim: 嵌入层大小\n",
    "    \n",
    "    '''\n",
    "    embed = get_embed(input_data, vocab_size, embed_dim)\n",
    "    outputs, final_state = build_rnn(cell, embed)\n",
    "    logits = tf.contrib.layers.fully_connected(outputs, vocab_size, activation_fn=None)\n",
    "    \n",
    "    return logits, final_state"
   ]
  },
  {
   "cell_type": "markdown",
   "metadata": {},
   "source": [
    "# 构造batch"
   ]
  },
  {
   "cell_type": "markdown",
   "metadata": {},
   "source": [
    "在这里，我们将采用以下方式进行batch的构造，如果我们有一个1-20的序列，传入参数batch_size=3, seq_length=2的话，希望返回以下一个四维的向量。\n",
    "\n",
    "分为了三个batch，每个batch中包含了输入和对应的目标输出。\n",
    "get_batches([1, 2, 3, 4, 5, 6, 7, 8, 9, 10, 11, 12, 13, 14, 15, 16, 17, 18, 19, 20], 3, 2)\n",
    "\n",
    "  ## First Batch\n",
    "  [\n",
    "    ## Batch of Input\n",
    "    [[ 1  2], [ 7  8], [13 14]]\n",
    "    ## Batch of targets\n",
    "    [[ 2  3], [ 8  9], [14 15]]\n",
    "  ]\n",
    "\n",
    "  ## Second Batch\n",
    "  [\n",
    "    ## Batch of Input\n",
    "    [[ 3  4], [ 9 10], [15 16]]\n",
    "    ## Batch of targets\n",
    "    [[ 4  5], [10 11], [16 17]]\n",
    "  ]\n",
    "\n",
    "  ## Third Batch\n",
    "  [\n",
    "    ## Batch of Input\n",
    "    [[ 5  6], [11 12], [17 18]]\n",
    "    ## Batch of targets\n",
    "    [[ 6  7], [12 13], [18  1]]\n",
    "  ]\n",
    "]"
   ]
  },
  {
   "cell_type": "code",
   "execution_count": 18,
   "metadata": {},
   "outputs": [],
   "source": [
    "def get_batches(int_text, batch_size, seq_length):\n",
    "    '''\n",
    "    构造batch\n",
    "    '''\n",
    "    batch = batch_size * seq_length\n",
    "    n_batch = len(int_text) // batch\n",
    "    \n",
    "    int_text = np.array(int_text[:batch * n_batch]) # 保留能构成完整batch的数量\n",
    "    \n",
    "    int_text_targets = np.zeros_like(int_text)\n",
    "    int_text_targets[:-1], int_text_targets[-1] = int_text[1:], int_text[0]\n",
    "    \n",
    "    # 切分\n",
    "    x = np.split(int_text.reshape(batch_size, -1), n_batch, -1)\n",
    "    y = np.split(int_text_targets.reshape(batch_size, -1), n_batch, -1)\n",
    "    \n",
    "    return np.stack((x, y), axis=1) # 组合"
   ]
  },
  {
   "cell_type": "code",
   "execution_count": 19,
   "metadata": {},
   "outputs": [],
   "source": [
    "# def get_batches1(int_text, batch_size, seq_length):\n",
    "#     n_batches = int(len(int_text) / (batch_size * seq_length))\n",
    "#     # Drop the last few characters to make only full batches\n",
    "#     x_data = np.array(int_text[: n_batches * batch_size * seq_length])\n",
    "#     y_data = np.array(int_text[1: n_batches * batch_size * seq_length + 1])\n",
    "\n",
    "#     x_batches = np.split(x_data.reshape(batch_size, -1), n_batches, 1)\n",
    "#     y_batches = np.split(y_data.reshape(batch_size, -1), n_batches, 1)\n",
    "#     return np.array(list(zip(x_batches, y_batches)))\n"
   ]
  },
  {
   "cell_type": "markdown",
   "metadata": {},
   "source": [
    "# 3 模型训练"
   ]
  },
  {
   "cell_type": "code",
   "execution_count": 20,
   "metadata": {},
   "outputs": [],
   "source": [
    "# Number of Epochs\n",
    "num_epochs = 100\n",
    "# Batch Size\n",
    "batch_size = 128\n",
    "# RNN Size\n",
    "rnn_size = 512\n",
    "# Embedding Dimension Size\n",
    "embed_dim = 200\n",
    "# Sequence Length\n",
    "seq_length = 20\n",
    "# Learning Rate\n",
    "learning_rate = 0.01\n",
    "# Show stats for every n number of batches\n",
    "show_every_n_batches = 100"
   ]
  },
  {
   "cell_type": "code",
   "execution_count": 21,
   "metadata": {},
   "outputs": [],
   "source": [
    "from tensorflow.contrib import seq2seq\n",
    "\n",
    "train_graph = tf.Graph()\n",
    "with train_graph.as_default():\n",
    "    vocab_size = len(int_to_vocab) # vocab_size\n",
    "    input_text, targets, lr = get_inputs() # 输入tensor\n",
    "    input_data_shape = tf.shape(input_text)\n",
    "    # 初始化RNN\n",
    "    cell, initial_state = get_init_cell(input_data_shape[0], rnn_size)\n",
    "    logits, final_state = build_nn(cell, rnn_size, input_text, vocab_size, embed_dim)\n",
    "\n",
    "    # 计算softmax层概率\n",
    "    probs = tf.nn.softmax(logits, name='probs')\n",
    "\n",
    "    # 损失函数\n",
    "    cost = seq2seq.sequence_loss(\n",
    "        logits,\n",
    "        targets,\n",
    "        tf.ones([input_data_shape[0], input_data_shape[1]]))\n",
    "\n",
    "    # 优化函数\n",
    "    optimizer = tf.train.AdamOptimizer(lr)\n",
    "\n",
    "    # Gradient Clipping\n",
    "    gradients = optimizer.compute_gradients(cost)\n",
    "    capped_gradients = [(tf.clip_by_value(grad, -1., 1.), var) for grad, var in gradients if grad is not None]\n",
    "    train_op = optimizer.apply_gradients(capped_gradients)"
   ]
  },
  {
   "cell_type": "code",
   "execution_count": null,
   "metadata": {
    "scrolled": true
   },
   "outputs": [
    {
     "name": "stdout",
     "output_type": "stream",
     "text": [
      "Epoch   0 Batch    0/145   train_loss = 10.083\n",
      "Epoch   0 Batch  100/145   train_loss = 7.360\n",
      "Epoch   1 Batch   55/145   train_loss = 7.518\n",
      "Epoch   2 Batch   10/145   train_loss = 7.017\n",
      "Epoch   2 Batch  110/145   train_loss = 7.243\n",
      "Epoch   3 Batch   65/145   train_loss = 6.701\n",
      "Epoch   4 Batch   20/145   train_loss = 6.656\n",
      "Epoch   4 Batch  120/145   train_loss = 6.310\n",
      "Epoch   5 Batch   75/145   train_loss = 6.136\n",
      "Epoch   6 Batch   30/145   train_loss = 6.221\n",
      "Epoch   6 Batch  130/145   train_loss = 5.878\n",
      "Epoch   7 Batch   85/145   train_loss = 5.739\n",
      "Epoch   8 Batch   40/145   train_loss = 5.667\n",
      "Epoch   8 Batch  140/145   train_loss = 5.595\n",
      "Epoch   9 Batch   95/145   train_loss = 5.128\n",
      "Epoch  10 Batch   50/145   train_loss = 4.874\n",
      "Epoch  11 Batch    5/145   train_loss = 5.047\n",
      "Epoch  11 Batch  105/145   train_loss = 4.633\n",
      "Epoch  12 Batch   60/145   train_loss = 4.792\n",
      "Epoch  13 Batch   15/145   train_loss = 4.624\n",
      "Epoch  13 Batch  115/145   train_loss = 4.395\n",
      "Epoch  14 Batch   70/145   train_loss = 4.388\n",
      "Epoch  15 Batch   25/145   train_loss = 4.570\n",
      "Epoch  15 Batch  125/145   train_loss = 4.069\n",
      "Epoch  16 Batch   80/145   train_loss = 4.060\n",
      "Epoch  17 Batch   35/145   train_loss = 4.047\n",
      "Epoch  17 Batch  135/145   train_loss = 3.836\n",
      "Epoch  18 Batch   90/145   train_loss = 3.697\n",
      "Epoch  19 Batch   45/145   train_loss = 3.976\n",
      "Epoch  20 Batch    0/145   train_loss = 3.609\n",
      "Epoch  20 Batch  100/145   train_loss = 3.590\n",
      "Epoch  21 Batch   55/145   train_loss = 3.359\n",
      "Epoch  22 Batch   10/145   train_loss = 3.690\n",
      "Epoch  22 Batch  110/145   train_loss = 3.304\n",
      "Epoch  23 Batch   65/145   train_loss = 3.246\n",
      "Epoch  24 Batch   20/145   train_loss = 3.316\n",
      "Epoch  24 Batch  120/145   train_loss = 3.156\n",
      "Epoch  25 Batch   75/145   train_loss = 3.223\n",
      "Epoch  26 Batch   30/145   train_loss = 3.021\n",
      "Epoch  26 Batch  130/145   train_loss = 3.082\n",
      "Epoch  27 Batch   85/145   train_loss = 2.925\n",
      "Epoch  28 Batch   40/145   train_loss = 2.904\n",
      "Epoch  28 Batch  140/145   train_loss = 2.915\n",
      "Epoch  29 Batch   95/145   train_loss = 2.855\n",
      "Epoch  30 Batch   50/145   train_loss = 2.765\n",
      "Epoch  31 Batch    5/145   train_loss = 2.901\n",
      "Epoch  31 Batch  105/145   train_loss = 2.756\n",
      "Epoch  32 Batch   60/145   train_loss = 2.651\n",
      "Epoch  33 Batch   15/145   train_loss = 2.394\n",
      "Epoch  33 Batch  115/145   train_loss = 2.356\n",
      "Epoch  34 Batch   70/145   train_loss = 2.218\n",
      "Epoch  35 Batch   25/145   train_loss = 2.386\n",
      "Epoch  35 Batch  125/145   train_loss = 2.097\n",
      "Epoch  36 Batch   80/145   train_loss = 2.100\n",
      "Epoch  37 Batch   35/145   train_loss = 2.045\n",
      "Epoch  37 Batch  135/145   train_loss = 1.973\n",
      "Epoch  38 Batch   90/145   train_loss = 1.857\n",
      "Epoch  39 Batch   45/145   train_loss = 2.040\n",
      "Epoch  40 Batch    0/145   train_loss = 1.813\n",
      "Epoch  40 Batch  100/145   train_loss = 1.914\n",
      "Epoch  41 Batch   55/145   train_loss = 1.753\n",
      "Epoch  42 Batch   10/145   train_loss = 1.996\n",
      "Epoch  42 Batch  110/145   train_loss = 1.825\n",
      "Epoch  43 Batch   65/145   train_loss = 1.778\n",
      "Epoch  44 Batch   20/145   train_loss = 1.868\n",
      "Epoch  44 Batch  120/145   train_loss = 1.779\n",
      "Epoch  45 Batch   75/145   train_loss = 1.699\n",
      "Epoch  46 Batch   30/145   train_loss = 1.558\n",
      "Epoch  46 Batch  130/145   train_loss = 1.750\n",
      "Epoch  47 Batch   85/145   train_loss = 1.604\n",
      "Epoch  48 Batch   40/145   train_loss = 1.594\n",
      "Epoch  48 Batch  140/145   train_loss = 1.586\n",
      "Epoch  49 Batch   95/145   train_loss = 1.598\n",
      "Epoch  50 Batch   50/145   train_loss = 1.606\n",
      "Epoch  51 Batch    5/145   train_loss = 1.647\n",
      "Epoch  51 Batch  105/145   train_loss = 1.625\n",
      "Epoch  52 Batch   60/145   train_loss = 1.572\n",
      "Epoch  53 Batch   15/145   train_loss = 1.440\n",
      "Epoch  53 Batch  115/145   train_loss = 1.484\n",
      "Epoch  54 Batch   70/145   train_loss = 1.398\n",
      "Epoch  55 Batch   25/145   train_loss = 1.599\n",
      "Epoch  55 Batch  125/145   train_loss = 1.463\n",
      "Epoch  56 Batch   80/145   train_loss = 1.474\n",
      "Epoch  57 Batch   35/145   train_loss = 1.502\n",
      "Epoch  57 Batch  135/145   train_loss = 1.387\n",
      "Epoch  58 Batch   90/145   train_loss = 1.360\n",
      "Epoch  59 Batch   45/145   train_loss = 1.538\n",
      "Epoch  60 Batch    0/145   train_loss = 1.337\n",
      "Epoch  60 Batch  100/145   train_loss = 1.382\n",
      "Epoch  61 Batch   55/145   train_loss = 1.335\n",
      "Epoch  62 Batch   10/145   train_loss = 1.471\n",
      "Epoch  62 Batch  110/145   train_loss = 1.365\n",
      "Epoch  63 Batch   65/145   train_loss = 1.375\n",
      "Epoch  64 Batch   20/145   train_loss = 1.361\n",
      "Epoch  64 Batch  120/145   train_loss = 1.261\n",
      "Epoch  65 Batch   75/145   train_loss = 1.286\n",
      "Epoch  66 Batch   30/145   train_loss = 1.263\n",
      "Epoch  66 Batch  130/145   train_loss = 1.368\n",
      "Epoch  67 Batch   85/145   train_loss = 1.292\n",
      "Epoch  68 Batch   40/145   train_loss = 1.237\n",
      "Epoch  68 Batch  140/145   train_loss = 1.305\n"
     ]
    }
   ],
   "source": [
    "# 获取batch\n",
    "batches = get_batches(int_text, batch_size, seq_length)\n",
    "# 定义参数存储目录\n",
    "save_dir = './save'\n",
    "\n",
    "with tf.Session(graph=train_graph) as sess:\n",
    "    sess.run(tf.global_variables_initializer())\n",
    "\n",
    "    for epoch in range(num_epochs):\n",
    "        state = sess.run(initial_state, {input_text: batches[0][0]})\n",
    "\n",
    "        for batch_i, (x, y) in enumerate(batches):\n",
    "            feed = {\n",
    "                input_text: x,\n",
    "                targets: y,\n",
    "                initial_state: state,\n",
    "                lr: learning_rate}\n",
    "            train_loss, state, _ = sess.run([cost, final_state, train_op], feed)\n",
    "\n",
    "            # 每训练一定阶段对结果进行打印\n",
    "            if (epoch * len(batches) + batch_i) % show_every_n_batches == 0:\n",
    "                print('Epoch {:>3} Batch {:>4}/{}   train_loss = {:.3f}'.format(\n",
    "                    epoch,\n",
    "                    batch_i,\n",
    "                    len(batches),\n",
    "                    train_loss))\n",
    "    # 保存模型\n",
    "    saver = tf.train.Saver()\n",
    "    saver.save(sess, save_dir)\n",
    "    print('Model Trained and Saved')"
   ]
  },
  {
   "cell_type": "code",
   "execution_count": 40,
   "metadata": {},
   "outputs": [],
   "source": [
    "def get_tensors(loaded_graph):\n",
    "    '''\n",
    "    获取模型训练结果参数\n",
    "    \n",
    "    参数\n",
    "    ---\n",
    "    loaded_graph: 从文件加载的tensroflow graph\n",
    "    '''\n",
    "    inputs = loaded_graph.get_tensor_by_name('inputs:0')\n",
    "    initial_state = loaded_graph.get_tensor_by_name('initial_state:0')\n",
    "    final_state = loaded_graph.get_tensor_by_name('final_state:0')\n",
    "    probs = loaded_graph.get_tensor_by_name('probs:0')\n",
    "    return inputs, initial_state, final_state, probs"
   ]
  },
  {
   "cell_type": "code",
   "execution_count": 42,
   "metadata": {},
   "outputs": [],
   "source": [
    "def pick_word(probabilities, int_to_vocab):\n",
    "    '''\n",
    "    选择单词进行文本生成，用来以一定的概率生成下一个词\n",
    "    \n",
    "    参数\n",
    "    ---\n",
    "    probabilities: Probabilites of the next word\n",
    "    int_to_vocab: 映射表\n",
    "    '''\n",
    "    result = np.random.choice(len(probabilities), 50, p=probabilities)\n",
    "    return int_to_vocab[result[0]]"
   ]
  },
  {
   "cell_type": "code",
   "execution_count": 51,
   "metadata": {},
   "outputs": [
    {
     "name": "stdout",
     "output_type": "stream",
     "text": [
      "爱情 到底 让 人 脆弱 还是 让 人 坚定 我 用尽 最后 的 力气 从头到尾 都 没有 哭泣 爱 曾 是 怕 多 孙燕姿 了 又 突然 失重 在 飘 我 说 我 让 快乐 一起 有 ~ 星期一 天气 晴 我 离开 你 不带 任何 行李 除了 一本 陪 我 放逐 的 日记 伤心 让 人 不想 爱 自己 那么 也 只好 暂时 不爱 你 拉开距离 等 着 有 一天 忽然 想起 你 离开 的 原因 再也 想不起 再 翻出 旧 的 日记 从 新 写 起 星期一 天气 晴 我 离开 你 突然 就 下 了 决心 我 在 日历 上面 画 下 星星 星期一 天气 晴 我 离开 你 不带 任何 行李 除了 一本 陪 我 放逐 的 日记 伤心 让 人 不想 爱 自己 那么 也 只好 暂时 不爱 你 拉开距离 等 着 有 一天 忽然 想起 你 离开 的 原因 再也 想不起 再 翻出 旧 的 日记 从 新 写 起 星期一 天气 晴 我 离开 你 突然 就 下 了 决心 我 在 日历 上面 画 下 星星 星期一 天气 晴 我 离开 你 不带 任何 行李 除了 一本 陪 我 放逐 的 日记 伤心 让 人 不想 爱 自己 那么 也 只好 暂时 不爱 你 拉开距离 等 着 有 一天 忽然 想起 你 离开 的 原因 再也 想不起 再 翻出 旧 的 日记 从 新 写 起 星期一 天气 晴 我 离开 你 突然 就 下 了 决心 我 在 日历 上面 画 下 星星 星期一 天气 晴 我 离开 你 不带 任何 行李 除了 一本 陪 我 放逐 的 日记 伤心 让 人 不想 爱 自己 那么 也 只好 暂时 不爱 你 拉开距离 等 着 有 一天 忽然 想起 你 离开 的 原因 再也 想不起 再 翻出 旧 的 日记 从 新 写 起 星期一 天气 晴 我 离开 你 突然 就 下\n"
     ]
    }
   ],
   "source": [
    "# 生成文本的长度\n",
    "gen_length = 300\n",
    "\n",
    "# 定义冷启动的单词\n",
    "prime_word = '爱情'\n",
    "\n",
    "loaded_graph = tf.Graph()\n",
    "with tf.Session(graph=loaded_graph) as sess:\n",
    "    # 加载模型\n",
    "    loader = tf.train.import_meta_graph(save_dir + '.meta')\n",
    "    loader.restore(sess, save_dir)\n",
    "\n",
    "    # 获取训练的结果参数\n",
    "    input_text, initial_state, final_state, probs = get_tensors(loaded_graph)\n",
    "\n",
    "    # Sentences generation setup\n",
    "    gen_sentences = [prime_word]\n",
    "    prev_state = sess.run(initial_state, {input_text: np.array([[1]])})\n",
    "\n",
    "    # 生成句子\n",
    "    for n in range(gen_length):\n",
    "        dyn_input = [[vocab_to_int[word] for word in gen_sentences[-seq_length:]]]\n",
    "        dyn_seq_length = len(dyn_input[0])\n",
    "\n",
    "        # 预测\n",
    "        probabilities, prev_state = sess.run(\n",
    "            [probs, final_state],\n",
    "            {input_text: dyn_input, initial_state: prev_state})\n",
    "        \n",
    "        pred_word = pick_word(probabilities[dyn_seq_length-1], int_to_vocab)\n",
    "\n",
    "        gen_sentences.append(pred_word)\n",
    "    \n",
    "    lyrics = ' '.join(gen_sentences)\n",
    "    lyrics = lyrics.replace(';', '\\n')\n",
    "    lyrics = lyrics.replace('.', ' ')\n",
    "    # lyrics = lyrics.replace(' ', '')\n",
    "    print(lyrics)\n",
    "    "
   ]
  }
 ],
 "metadata": {
  "kernelspec": {
   "display_name": "Python 3",
   "language": "python",
   "name": "python3"
  },
  "language_info": {
   "codemirror_mode": {
    "name": "ipython",
    "version": 3
   },
   "file_extension": ".py",
   "mimetype": "text/x-python",
   "name": "python",
   "nbconvert_exporter": "python",
   "pygments_lexer": "ipython3",
   "version": "3.5.5"
  },
  "latex_envs": {
   "LaTeX_envs_menu_present": true,
   "autocomplete": true,
   "bibliofile": "biblio.bib",
   "cite_by": "apalike",
   "current_citInitial": 1,
   "eqLabelWithNumbers": true,
   "eqNumInitial": 1,
   "hotkeys": {
    "equation": "Ctrl-E",
    "itemize": "Ctrl-I"
   },
   "labels_anchors": false,
   "latex_user_defs": false,
   "report_style_numbering": false,
   "user_envs_cfg": false
  },
  "varInspector": {
   "cols": {
    "lenName": 16,
    "lenType": 16,
    "lenVar": 40
   },
   "kernels_config": {
    "python": {
     "delete_cmd_postfix": "",
     "delete_cmd_prefix": "del ",
     "library": "var_list.py",
     "varRefreshCmd": "print(var_dic_list())"
    },
    "r": {
     "delete_cmd_postfix": ") ",
     "delete_cmd_prefix": "rm(",
     "library": "var_list.r",
     "varRefreshCmd": "cat(var_dic_list()) "
    }
   },
   "types_to_exclude": [
    "module",
    "function",
    "builtin_function_or_method",
    "instance",
    "_Feature"
   ],
   "window_display": false
  }
 },
 "nbformat": 4,
 "nbformat_minor": 2
}
